{
 "cells": [
  {
   "cell_type": "code",
   "execution_count": 1,
   "metadata": {},
   "outputs": [
    {
     "ename": "ModuleNotFoundError",
     "evalue": "No module named 'drone_sensor_library'",
     "output_type": "error",
     "traceback": [
      "\u001b[1;31m---------------------------------------------------------------------------\u001b[0m",
      "\u001b[1;31mModuleNotFoundError\u001b[0m                       Traceback (most recent call last)",
      "\u001b[1;32mc:\\Users\\MUSKAN CYBERTECH\\Desktop\\INTRO_MACHINE_LEARNING\\OPCV_PROJECT_I.ipynb Cell 1\u001b[0m line \u001b[0;36m3\n\u001b[0;32m      <a href='vscode-notebook-cell:/c%3A/Users/MUSKAN%20CYBERTECH/Desktop/INTRO_MACHINE_LEARNING/OPCV_PROJECT_I.ipynb#W0sZmlsZQ%3D%3D?line=0'>1</a>\u001b[0m \u001b[39mimport\u001b[39;00m \u001b[39mcv2\u001b[39;00m\n\u001b[0;32m      <a href='vscode-notebook-cell:/c%3A/Users/MUSKAN%20CYBERTECH/Desktop/INTRO_MACHINE_LEARNING/OPCV_PROJECT_I.ipynb#W0sZmlsZQ%3D%3D?line=1'>2</a>\u001b[0m \u001b[39mimport\u001b[39;00m \u001b[39mnumpy\u001b[39;00m \u001b[39mas\u001b[39;00m \u001b[39mnp\u001b[39;00m\n\u001b[1;32m----> <a href='vscode-notebook-cell:/c%3A/Users/MUSKAN%20CYBERTECH/Desktop/INTRO_MACHINE_LEARNING/OPCV_PROJECT_I.ipynb#W0sZmlsZQ%3D%3D?line=2'>3</a>\u001b[0m \u001b[39mimport\u001b[39;00m \u001b[39mdrone_sensor_library\u001b[39;00m  \u001b[39m# Replace with your actual sensor library\u001b[39;00m\n\u001b[0;32m      <a href='vscode-notebook-cell:/c%3A/Users/MUSKAN%20CYBERTECH/Desktop/INTRO_MACHINE_LEARNING/OPCV_PROJECT_I.ipynb#W0sZmlsZQ%3D%3D?line=4'>5</a>\u001b[0m \u001b[39m# Initialize camera\u001b[39;00m\n\u001b[0;32m      <a href='vscode-notebook-cell:/c%3A/Users/MUSKAN%20CYBERTECH/Desktop/INTRO_MACHINE_LEARNING/OPCV_PROJECT_I.ipynb#W0sZmlsZQ%3D%3D?line=5'>6</a>\u001b[0m camera \u001b[39m=\u001b[39m cv2\u001b[39m.\u001b[39mVideoCapture(\u001b[39m0\u001b[39m)  \u001b[39m# 0 for default camera, adjust as needed\u001b[39;00m\n",
      "\u001b[1;31mModuleNotFoundError\u001b[0m: No module named 'drone_sensor_library'"
     ]
    }
   ],
   "source": [
    "import cv2\n",
    "import numpy as np\n",
    "import drone_sensor_library  # Replace with your actual sensor library\n",
    "\n",
    "# Initialize camera\n",
    "camera = cv2.VideoCapture(0)  # 0 for default camera, adjust as needed\n",
    "\n",
    "# Initialize sensors (replace with actual sensor initialization code)\n",
    "sensors = drone_sensor_library.initialize_sensors()\n",
    "\n",
    "while True:\n",
    "    # Read a frame from the camera\n",
    "    ret, frame = camera.read()\n",
    "\n",
    "    # Read sensor data (replace with actual sensor reading code)\n",
    "    imu_data = drone_sensor_library.read_imu_data()\n",
    "    gps_data = drone_sensor_library.read_gps_data()\n",
    "\n",
    "    # Process camera data with OpenCV (replace with your image processing code)\n",
    "    if ret:\n",
    "        # Example: Convert frame to grayscale\n",
    "        gray_frame = cv2.cvtColor(frame, cv2.COLOR_BGR2GRAY)\n",
    "\n",
    "        # Example: Display sensor data on the image\n",
    "        cv2.putText(\n",
    "            gray_frame,\n",
    "            f\"IMU Data: {imu_data}\",\n",
    "            (10, 30),\n",
    "            cv2.FONT_HERSHEY_SIMPLEX,\n",
    "            1,\n",
    "            (255, 255, 255),\n",
    "            2,\n",
    "        )\n",
    "        cv2.putText(\n",
    "            gray_frame,\n",
    "            f\"GPS Data: {gps_data}\",\n",
    "            (10, 60),\n",
    "            cv2.FONT_HERSHEY_SIMPLEX,\n",
    "            1,\n",
    "            (255, 255, 255),\n",
    "            2,\n",
    "        )\n",
    "\n",
    "        # Display the processed frame\n",
    "        cv2.imshow(\"Drone Camera\", gray_frame)\n",
    "\n",
    "    # Exit the loop if a key is pressed\n",
    "    if cv2.waitKey(1) & 0xFF == ord(\"q\"):\n",
    "        break\n",
    "\n",
    "# Release the camera and clean up\n",
    "camera.release()\n",
    "cv2.destroyAllWindows()"
   ]
  }
 ],
 "metadata": {
  "kernelspec": {
   "display_name": "Python 3",
   "language": "python",
   "name": "python3"
  },
  "language_info": {
   "codemirror_mode": {
    "name": "ipython",
    "version": 3
   },
   "file_extension": ".py",
   "mimetype": "text/x-python",
   "name": "python",
   "nbconvert_exporter": "python",
   "pygments_lexer": "ipython3",
   "version": "3.11.2"
  }
 },
 "nbformat": 4,
 "nbformat_minor": 2
}
